{
  "nbformat": 4,
  "nbformat_minor": 0,
  "metadata": {
    "colab": {
      "provenance": []
    },
    "kernelspec": {
      "name": "python3",
      "display_name": "Python 3"
    },
    "language_info": {
      "name": "python"
    }
  },
  "cells": [
    {
      "cell_type": "markdown",
      "source": [
        "##En este colab, se realizará un clasificador de tipos de ropas usando redes convolucionales. La idea de este proyecto, es que el modelo reconozca el tipo de ropa que es con su respectivo número de probabilidad como indicador. Este modelo, se entrenará usando imágenes de ropa."
      ],
      "metadata": {
        "id": "K9sQ1UwG57Nj"
      }
    },
    {
      "cell_type": "code",
      "execution_count": null,
      "metadata": {
        "id": "Pc_unIXE5plI"
      },
      "outputs": [],
      "source": []
    }
  ]
}