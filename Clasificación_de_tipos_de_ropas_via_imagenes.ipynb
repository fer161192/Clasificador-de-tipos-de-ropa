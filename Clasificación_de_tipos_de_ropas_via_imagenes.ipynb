{
  "nbformat": 4,
  "nbformat_minor": 0,
  "metadata": {
    "colab": {
      "provenance": [],
      "authorship_tag": "ABX9TyPbsOhRC9qrMsGcKh6VqH1Q",
      "include_colab_link": true
    },
    "kernelspec": {
      "name": "python3",
      "display_name": "Python 3"
    },
    "language_info": {
      "name": "python"
    }
  },
  "cells": [
    {
      "cell_type": "markdown",
      "metadata": {
        "id": "view-in-github",
        "colab_type": "text"
      },
      "source": [
        "<a href=\"https://colab.research.google.com/github/fer161192/Clasificador-de-tipos-de-ropa/blob/main/Clasificaci%C3%B3n_de_tipos_de_ropas_via_imagenes.ipynb\" target=\"_parent\"><img src=\"https://colab.research.google.com/assets/colab-badge.svg\" alt=\"Open In Colab\"/></a>"
      ]
    },
    {
      "cell_type": "markdown",
      "source": [
        "##En este colab, se realizará un clasificador de tipos de ropas usando redes convolucionales. La idea de este proyecto, es que el modelo reconozca el tipo de ropa que es con su respectivo número de probabilidad como indicador. Este modelo, se entrenará usando imágenes de ropa."
      ],
      "metadata": {
        "id": "K9sQ1UwG57Nj"
      }
    },
    {
      "cell_type": "markdown",
      "source": [
        "Hola, esta es una modificación de prueba."
      ],
      "metadata": {
        "id": "4fNt6hMKANXF"
      }
    },
    {
      "cell_type": "code",
      "execution_count": null,
      "metadata": {
        "colab": {
          "base_uri": "https://localhost:8080/"
        },
        "id": "Pc_unIXE5plI",
        "outputId": "d9a94233-e4c9-4e6f-9c69-b9506986d144"
      },
      "outputs": [
        {
          "output_type": "stream",
          "name": "stdout",
          "text": [
            "fatal: destination path 'Clasificador-de-tipos-de-ropa' already exists and is not an empty directory.\n"
          ]
        }
      ],
      "source": [
        "!git clone https://github.com/fer161192/Clasificador-de-tipos-de-ropa"
      ]
    },
    {
      "cell_type": "code",
      "source": [
        "!git add ."
      ],
      "metadata": {
        "colab": {
          "base_uri": "https://localhost:8080/"
        },
        "id": "lnW6RrEYA8i5",
        "outputId": "4f5dac41-30b5-4ebf-9e35-8e3cea1fa983"
      },
      "execution_count": null,
      "outputs": [
        {
          "output_type": "stream",
          "name": "stdout",
          "text": [
            "fatal: not a git repository (or any of the parent directories): .git\n"
          ]
        }
      ]
    },
    {
      "cell_type": "code",
      "source": [
        "!git commit -m \"Descripción de los cambios\"\n"
      ],
      "metadata": {
        "id": "sTcI43nuBVV1",
        "outputId": "e4856a8b-a5f1-4c2f-8d67-0c44f0f6d4b0",
        "colab": {
          "base_uri": "https://localhost:8080/"
        }
      },
      "execution_count": null,
      "outputs": [
        {
          "output_type": "stream",
          "name": "stdout",
          "text": [
            "fatal: not a git repository (or any of the parent directories): .git\n"
          ]
        }
      ]
    }
  ]
}