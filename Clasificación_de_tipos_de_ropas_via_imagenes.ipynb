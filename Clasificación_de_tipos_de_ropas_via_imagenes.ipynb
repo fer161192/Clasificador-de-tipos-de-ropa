{
  "nbformat": 4,
  "nbformat_minor": 0,
  "metadata": {
    "colab": {
      "provenance": [],
      "toc_visible": true,
      "authorship_tag": "ABX9TyOmRVT2LWQhGIEIFDLV3n/o",
      "include_colab_link": true
    },
    "kernelspec": {
      "name": "python3",
      "display_name": "Python 3"
    },
    "language_info": {
      "name": "python"
    }
  },
  "cells": [
    {
      "cell_type": "markdown",
      "metadata": {
        "id": "view-in-github",
        "colab_type": "text"
      },
      "source": [
        "<a href=\"https://colab.research.google.com/github/fer161192/Clasificador-de-tipos-de-ropa/blob/main/Clasificaci%C3%B3n_de_tipos_de_ropas_via_imagenes.ipynb\" target=\"_parent\"><img src=\"https://colab.research.google.com/assets/colab-badge.svg\" alt=\"Open In Colab\"/></a>"
      ]
    },
    {
      "cell_type": "markdown",
      "source": [
        "##En este colab, se realizará un clasificador de tipos de ropas usando redes convolucionales. La idea de este proyecto, es que el modelo reconozca el tipo de ropa que es con su respectivo número de probabilidad como indicador. Este modelo, se entrenará usando imágenes de ropa."
      ],
      "metadata": {
        "id": "K9sQ1UwG57Nj"
      }
    }
  ]
}